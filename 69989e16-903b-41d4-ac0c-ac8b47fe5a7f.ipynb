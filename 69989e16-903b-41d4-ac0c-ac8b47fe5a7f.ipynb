{
 "cells": [
  {
   "cell_type": "code",
   "execution_count": 2,
   "metadata": {
    "trusted": true
   },
   "outputs": [],
   "source": [
    "#Importando as bibliotecas\n",
    "import pandas as pd\n",
    "import matplotlib.pyplot as plt\n",
    "import seaborn as sns\n",
    "from scipy.stats import ttest_ind"
   ]
  },
  {
   "cell_type": "code",
   "execution_count": 3,
   "metadata": {
    "trusted": true
   },
   "outputs": [],
   "source": [
    "#Lendo os conjuntos de dados\n",
    "trips_by_company = pd.read_csv('/datasets/project_sql_result_01.csv')\n",
    "dropoff_stats = pd.read_csv('/datasets/project_sql_result_04.csv')\n",
    "loop_to_ohare = pd.read_csv('/datasets/project_sql_result_07.csv')"
   ]
  },
  {
   "cell_type": "code",
   "execution_count": 4,
   "metadata": {
    "trusted": true
   },
   "outputs": [
    {
     "name": "stdout",
     "output_type": "stream",
     "text": [
      "<class 'pandas.core.frame.DataFrame'>\n",
      "RangeIndex: 64 entries, 0 to 63\n",
      "Data columns (total 2 columns):\n",
      " #   Column        Non-Null Count  Dtype \n",
      "---  ------        --------------  ----- \n",
      " 0   company_name  64 non-null     object\n",
      " 1   trips_amount  64 non-null     int64 \n",
      "dtypes: int64(1), object(1)\n",
      "memory usage: 1.1+ KB\n"
     ]
    }
   ],
   "source": [
    "trips_by_company.info()"
   ]
  },
  {
   "cell_type": "code",
   "execution_count": 5,
   "metadata": {
    "trusted": true
   },
   "outputs": [
    {
     "data": {
      "text/html": [
       "<div>\n",
       "<style scoped>\n",
       "    .dataframe tbody tr th:only-of-type {\n",
       "        vertical-align: middle;\n",
       "    }\n",
       "\n",
       "    .dataframe tbody tr th {\n",
       "        vertical-align: top;\n",
       "    }\n",
       "\n",
       "    .dataframe thead th {\n",
       "        text-align: right;\n",
       "    }\n",
       "</style>\n",
       "<table border=\"1\" class=\"dataframe\">\n",
       "  <thead>\n",
       "    <tr style=\"text-align: right;\">\n",
       "      <th></th>\n",
       "      <th>trips_amount</th>\n",
       "    </tr>\n",
       "  </thead>\n",
       "  <tbody>\n",
       "    <tr>\n",
       "      <th>count</th>\n",
       "      <td>64.000000</td>\n",
       "    </tr>\n",
       "    <tr>\n",
       "      <th>mean</th>\n",
       "      <td>2145.484375</td>\n",
       "    </tr>\n",
       "    <tr>\n",
       "      <th>std</th>\n",
       "      <td>3812.310186</td>\n",
       "    </tr>\n",
       "    <tr>\n",
       "      <th>min</th>\n",
       "      <td>2.000000</td>\n",
       "    </tr>\n",
       "    <tr>\n",
       "      <th>25%</th>\n",
       "      <td>20.750000</td>\n",
       "    </tr>\n",
       "    <tr>\n",
       "      <th>50%</th>\n",
       "      <td>178.500000</td>\n",
       "    </tr>\n",
       "    <tr>\n",
       "      <th>75%</th>\n",
       "      <td>2106.500000</td>\n",
       "    </tr>\n",
       "    <tr>\n",
       "      <th>max</th>\n",
       "      <td>19558.000000</td>\n",
       "    </tr>\n",
       "  </tbody>\n",
       "</table>\n",
       "</div>"
      ],
      "text/plain": [
       "       trips_amount\n",
       "count     64.000000\n",
       "mean    2145.484375\n",
       "std     3812.310186\n",
       "min        2.000000\n",
       "25%       20.750000\n",
       "50%      178.500000\n",
       "75%     2106.500000\n",
       "max    19558.000000"
      ]
     },
     "execution_count": 5,
     "metadata": {},
     "output_type": "execute_result"
    }
   ],
   "source": [
    "trips_by_company.describe()"
   ]
  },
  {
   "cell_type": "code",
   "execution_count": 6,
   "metadata": {
    "trusted": true
   },
   "outputs": [
    {
     "data": {
      "text/html": [
       "<div>\n",
       "<style scoped>\n",
       "    .dataframe tbody tr th:only-of-type {\n",
       "        vertical-align: middle;\n",
       "    }\n",
       "\n",
       "    .dataframe tbody tr th {\n",
       "        vertical-align: top;\n",
       "    }\n",
       "\n",
       "    .dataframe thead th {\n",
       "        text-align: right;\n",
       "    }\n",
       "</style>\n",
       "<table border=\"1\" class=\"dataframe\">\n",
       "  <thead>\n",
       "    <tr style=\"text-align: right;\">\n",
       "      <th></th>\n",
       "      <th>company_name</th>\n",
       "      <th>trips_amount</th>\n",
       "    </tr>\n",
       "  </thead>\n",
       "  <tbody>\n",
       "    <tr>\n",
       "      <th>0</th>\n",
       "      <td>Flash Cab</td>\n",
       "      <td>19558</td>\n",
       "    </tr>\n",
       "    <tr>\n",
       "      <th>1</th>\n",
       "      <td>Taxi Affiliation Services</td>\n",
       "      <td>11422</td>\n",
       "    </tr>\n",
       "    <tr>\n",
       "      <th>2</th>\n",
       "      <td>Medallion Leasing</td>\n",
       "      <td>10367</td>\n",
       "    </tr>\n",
       "    <tr>\n",
       "      <th>3</th>\n",
       "      <td>Yellow Cab</td>\n",
       "      <td>9888</td>\n",
       "    </tr>\n",
       "    <tr>\n",
       "      <th>4</th>\n",
       "      <td>Taxi Affiliation Service Yellow</td>\n",
       "      <td>9299</td>\n",
       "    </tr>\n",
       "  </tbody>\n",
       "</table>\n",
       "</div>"
      ],
      "text/plain": [
       "                      company_name  trips_amount\n",
       "0                        Flash Cab         19558\n",
       "1        Taxi Affiliation Services         11422\n",
       "2                Medallion Leasing         10367\n",
       "3                       Yellow Cab          9888\n",
       "4  Taxi Affiliation Service Yellow          9299"
      ]
     },
     "execution_count": 6,
     "metadata": {},
     "output_type": "execute_result"
    }
   ],
   "source": [
    "trips_by_company.head()"
   ]
  },
  {
   "cell_type": "code",
   "execution_count": 7,
   "metadata": {
    "trusted": true
   },
   "outputs": [
    {
     "name": "stdout",
     "output_type": "stream",
     "text": [
      "<class 'pandas.core.frame.DataFrame'>\n",
      "RangeIndex: 94 entries, 0 to 93\n",
      "Data columns (total 2 columns):\n",
      " #   Column                 Non-Null Count  Dtype  \n",
      "---  ------                 --------------  -----  \n",
      " 0   dropoff_location_name  94 non-null     object \n",
      " 1   average_trips          94 non-null     float64\n",
      "dtypes: float64(1), object(1)\n",
      "memory usage: 1.6+ KB\n"
     ]
    }
   ],
   "source": [
    "dropoff_stats.info()"
   ]
  },
  {
   "cell_type": "code",
   "execution_count": 8,
   "metadata": {
    "trusted": true
   },
   "outputs": [
    {
     "data": {
      "text/html": [
       "<div>\n",
       "<style scoped>\n",
       "    .dataframe tbody tr th:only-of-type {\n",
       "        vertical-align: middle;\n",
       "    }\n",
       "\n",
       "    .dataframe tbody tr th {\n",
       "        vertical-align: top;\n",
       "    }\n",
       "\n",
       "    .dataframe thead th {\n",
       "        text-align: right;\n",
       "    }\n",
       "</style>\n",
       "<table border=\"1\" class=\"dataframe\">\n",
       "  <thead>\n",
       "    <tr style=\"text-align: right;\">\n",
       "      <th></th>\n",
       "      <th>average_trips</th>\n",
       "    </tr>\n",
       "  </thead>\n",
       "  <tbody>\n",
       "    <tr>\n",
       "      <th>count</th>\n",
       "      <td>94.000000</td>\n",
       "    </tr>\n",
       "    <tr>\n",
       "      <th>mean</th>\n",
       "      <td>599.953728</td>\n",
       "    </tr>\n",
       "    <tr>\n",
       "      <th>std</th>\n",
       "      <td>1714.591098</td>\n",
       "    </tr>\n",
       "    <tr>\n",
       "      <th>min</th>\n",
       "      <td>1.800000</td>\n",
       "    </tr>\n",
       "    <tr>\n",
       "      <th>25%</th>\n",
       "      <td>14.266667</td>\n",
       "    </tr>\n",
       "    <tr>\n",
       "      <th>50%</th>\n",
       "      <td>52.016667</td>\n",
       "    </tr>\n",
       "    <tr>\n",
       "      <th>75%</th>\n",
       "      <td>298.858333</td>\n",
       "    </tr>\n",
       "    <tr>\n",
       "      <th>max</th>\n",
       "      <td>10727.466667</td>\n",
       "    </tr>\n",
       "  </tbody>\n",
       "</table>\n",
       "</div>"
      ],
      "text/plain": [
       "       average_trips\n",
       "count      94.000000\n",
       "mean      599.953728\n",
       "std      1714.591098\n",
       "min         1.800000\n",
       "25%        14.266667\n",
       "50%        52.016667\n",
       "75%       298.858333\n",
       "max     10727.466667"
      ]
     },
     "execution_count": 8,
     "metadata": {},
     "output_type": "execute_result"
    }
   ],
   "source": [
    "dropoff_stats.describe()"
   ]
  },
  {
   "cell_type": "code",
   "execution_count": 9,
   "metadata": {
    "trusted": true
   },
   "outputs": [
    {
     "data": {
      "text/html": [
       "<div>\n",
       "<style scoped>\n",
       "    .dataframe tbody tr th:only-of-type {\n",
       "        vertical-align: middle;\n",
       "    }\n",
       "\n",
       "    .dataframe tbody tr th {\n",
       "        vertical-align: top;\n",
       "    }\n",
       "\n",
       "    .dataframe thead th {\n",
       "        text-align: right;\n",
       "    }\n",
       "</style>\n",
       "<table border=\"1\" class=\"dataframe\">\n",
       "  <thead>\n",
       "    <tr style=\"text-align: right;\">\n",
       "      <th></th>\n",
       "      <th>dropoff_location_name</th>\n",
       "      <th>average_trips</th>\n",
       "    </tr>\n",
       "  </thead>\n",
       "  <tbody>\n",
       "    <tr>\n",
       "      <th>0</th>\n",
       "      <td>Loop</td>\n",
       "      <td>10727.466667</td>\n",
       "    </tr>\n",
       "    <tr>\n",
       "      <th>1</th>\n",
       "      <td>River North</td>\n",
       "      <td>9523.666667</td>\n",
       "    </tr>\n",
       "    <tr>\n",
       "      <th>2</th>\n",
       "      <td>Streeterville</td>\n",
       "      <td>6664.666667</td>\n",
       "    </tr>\n",
       "    <tr>\n",
       "      <th>3</th>\n",
       "      <td>West Loop</td>\n",
       "      <td>5163.666667</td>\n",
       "    </tr>\n",
       "    <tr>\n",
       "      <th>4</th>\n",
       "      <td>O'Hare</td>\n",
       "      <td>2546.900000</td>\n",
       "    </tr>\n",
       "  </tbody>\n",
       "</table>\n",
       "</div>"
      ],
      "text/plain": [
       "  dropoff_location_name  average_trips\n",
       "0                  Loop   10727.466667\n",
       "1           River North    9523.666667\n",
       "2         Streeterville    6664.666667\n",
       "3             West Loop    5163.666667\n",
       "4                O'Hare    2546.900000"
      ]
     },
     "execution_count": 9,
     "metadata": {},
     "output_type": "execute_result"
    }
   ],
   "source": [
    "dropoff_stats.head()"
   ]
  },
  {
   "cell_type": "code",
   "execution_count": 10,
   "metadata": {
    "trusted": true
   },
   "outputs": [
    {
     "name": "stdout",
     "output_type": "stream",
     "text": [
      "<class 'pandas.core.frame.DataFrame'>\n",
      "RangeIndex: 1068 entries, 0 to 1067\n",
      "Data columns (total 3 columns):\n",
      " #   Column              Non-Null Count  Dtype  \n",
      "---  ------              --------------  -----  \n",
      " 0   start_ts            1068 non-null   object \n",
      " 1   weather_conditions  1068 non-null   object \n",
      " 2   duration_seconds    1068 non-null   float64\n",
      "dtypes: float64(1), object(2)\n",
      "memory usage: 25.2+ KB\n"
     ]
    }
   ],
   "source": [
    "loop_to_ohare.info()"
   ]
  },
  {
   "cell_type": "code",
   "execution_count": 11,
   "metadata": {
    "trusted": true
   },
   "outputs": [
    {
     "data": {
      "text/html": [
       "<div>\n",
       "<style scoped>\n",
       "    .dataframe tbody tr th:only-of-type {\n",
       "        vertical-align: middle;\n",
       "    }\n",
       "\n",
       "    .dataframe tbody tr th {\n",
       "        vertical-align: top;\n",
       "    }\n",
       "\n",
       "    .dataframe thead th {\n",
       "        text-align: right;\n",
       "    }\n",
       "</style>\n",
       "<table border=\"1\" class=\"dataframe\">\n",
       "  <thead>\n",
       "    <tr style=\"text-align: right;\">\n",
       "      <th></th>\n",
       "      <th>duration_seconds</th>\n",
       "    </tr>\n",
       "  </thead>\n",
       "  <tbody>\n",
       "    <tr>\n",
       "      <th>count</th>\n",
       "      <td>1068.000000</td>\n",
       "    </tr>\n",
       "    <tr>\n",
       "      <th>mean</th>\n",
       "      <td>2071.731273</td>\n",
       "    </tr>\n",
       "    <tr>\n",
       "      <th>std</th>\n",
       "      <td>769.461125</td>\n",
       "    </tr>\n",
       "    <tr>\n",
       "      <th>min</th>\n",
       "      <td>0.000000</td>\n",
       "    </tr>\n",
       "    <tr>\n",
       "      <th>25%</th>\n",
       "      <td>1438.250000</td>\n",
       "    </tr>\n",
       "    <tr>\n",
       "      <th>50%</th>\n",
       "      <td>1980.000000</td>\n",
       "    </tr>\n",
       "    <tr>\n",
       "      <th>75%</th>\n",
       "      <td>2580.000000</td>\n",
       "    </tr>\n",
       "    <tr>\n",
       "      <th>max</th>\n",
       "      <td>7440.000000</td>\n",
       "    </tr>\n",
       "  </tbody>\n",
       "</table>\n",
       "</div>"
      ],
      "text/plain": [
       "       duration_seconds\n",
       "count       1068.000000\n",
       "mean        2071.731273\n",
       "std          769.461125\n",
       "min            0.000000\n",
       "25%         1438.250000\n",
       "50%         1980.000000\n",
       "75%         2580.000000\n",
       "max         7440.000000"
      ]
     },
     "execution_count": 11,
     "metadata": {},
     "output_type": "execute_result"
    }
   ],
   "source": [
    "loop_to_ohare.describe()"
   ]
  },
  {
   "cell_type": "code",
   "execution_count": 12,
   "metadata": {
    "trusted": true
   },
   "outputs": [
    {
     "data": {
      "text/html": [
       "<div>\n",
       "<style scoped>\n",
       "    .dataframe tbody tr th:only-of-type {\n",
       "        vertical-align: middle;\n",
       "    }\n",
       "\n",
       "    .dataframe tbody tr th {\n",
       "        vertical-align: top;\n",
       "    }\n",
       "\n",
       "    .dataframe thead th {\n",
       "        text-align: right;\n",
       "    }\n",
       "</style>\n",
       "<table border=\"1\" class=\"dataframe\">\n",
       "  <thead>\n",
       "    <tr style=\"text-align: right;\">\n",
       "      <th></th>\n",
       "      <th>start_ts</th>\n",
       "      <th>weather_conditions</th>\n",
       "      <th>duration_seconds</th>\n",
       "    </tr>\n",
       "  </thead>\n",
       "  <tbody>\n",
       "    <tr>\n",
       "      <th>0</th>\n",
       "      <td>2017-11-25 16:00:00</td>\n",
       "      <td>Good</td>\n",
       "      <td>2410.0</td>\n",
       "    </tr>\n",
       "    <tr>\n",
       "      <th>1</th>\n",
       "      <td>2017-11-25 14:00:00</td>\n",
       "      <td>Good</td>\n",
       "      <td>1920.0</td>\n",
       "    </tr>\n",
       "    <tr>\n",
       "      <th>2</th>\n",
       "      <td>2017-11-25 12:00:00</td>\n",
       "      <td>Good</td>\n",
       "      <td>1543.0</td>\n",
       "    </tr>\n",
       "    <tr>\n",
       "      <th>3</th>\n",
       "      <td>2017-11-04 10:00:00</td>\n",
       "      <td>Good</td>\n",
       "      <td>2512.0</td>\n",
       "    </tr>\n",
       "    <tr>\n",
       "      <th>4</th>\n",
       "      <td>2017-11-11 07:00:00</td>\n",
       "      <td>Good</td>\n",
       "      <td>1440.0</td>\n",
       "    </tr>\n",
       "    <tr>\n",
       "      <th>5</th>\n",
       "      <td>2017-11-11 04:00:00</td>\n",
       "      <td>Good</td>\n",
       "      <td>1320.0</td>\n",
       "    </tr>\n",
       "    <tr>\n",
       "      <th>6</th>\n",
       "      <td>2017-11-04 16:00:00</td>\n",
       "      <td>Bad</td>\n",
       "      <td>2969.0</td>\n",
       "    </tr>\n",
       "    <tr>\n",
       "      <th>7</th>\n",
       "      <td>2017-11-18 11:00:00</td>\n",
       "      <td>Good</td>\n",
       "      <td>2280.0</td>\n",
       "    </tr>\n",
       "    <tr>\n",
       "      <th>8</th>\n",
       "      <td>2017-11-11 14:00:00</td>\n",
       "      <td>Good</td>\n",
       "      <td>2460.0</td>\n",
       "    </tr>\n",
       "    <tr>\n",
       "      <th>9</th>\n",
       "      <td>2017-11-11 12:00:00</td>\n",
       "      <td>Good</td>\n",
       "      <td>2040.0</td>\n",
       "    </tr>\n",
       "  </tbody>\n",
       "</table>\n",
       "</div>"
      ],
      "text/plain": [
       "              start_ts weather_conditions  duration_seconds\n",
       "0  2017-11-25 16:00:00               Good            2410.0\n",
       "1  2017-11-25 14:00:00               Good            1920.0\n",
       "2  2017-11-25 12:00:00               Good            1543.0\n",
       "3  2017-11-04 10:00:00               Good            2512.0\n",
       "4  2017-11-11 07:00:00               Good            1440.0\n",
       "5  2017-11-11 04:00:00               Good            1320.0\n",
       "6  2017-11-04 16:00:00                Bad            2969.0\n",
       "7  2017-11-18 11:00:00               Good            2280.0\n",
       "8  2017-11-11 14:00:00               Good            2460.0\n",
       "9  2017-11-11 12:00:00               Good            2040.0"
      ]
     },
     "execution_count": 12,
     "metadata": {},
     "output_type": "execute_result"
    }
   ],
   "source": [
    "loop_to_ohare.head(10)"
   ]
  },
  {
   "cell_type": "code",
   "execution_count": 13,
   "metadata": {
    "trusted": true
   },
   "outputs": [
    {
     "data": {
      "text/html": [
       "<div>\n",
       "<style scoped>\n",
       "    .dataframe tbody tr th:only-of-type {\n",
       "        vertical-align: middle;\n",
       "    }\n",
       "\n",
       "    .dataframe tbody tr th {\n",
       "        vertical-align: top;\n",
       "    }\n",
       "\n",
       "    .dataframe thead th {\n",
       "        text-align: right;\n",
       "    }\n",
       "</style>\n",
       "<table border=\"1\" class=\"dataframe\">\n",
       "  <thead>\n",
       "    <tr style=\"text-align: right;\">\n",
       "      <th></th>\n",
       "      <th>dropoff_location_name</th>\n",
       "      <th>average_trips</th>\n",
       "    </tr>\n",
       "  </thead>\n",
       "  <tbody>\n",
       "    <tr>\n",
       "      <th>0</th>\n",
       "      <td>Loop</td>\n",
       "      <td>10727.466667</td>\n",
       "    </tr>\n",
       "    <tr>\n",
       "      <th>1</th>\n",
       "      <td>River North</td>\n",
       "      <td>9523.666667</td>\n",
       "    </tr>\n",
       "    <tr>\n",
       "      <th>2</th>\n",
       "      <td>Streeterville</td>\n",
       "      <td>6664.666667</td>\n",
       "    </tr>\n",
       "    <tr>\n",
       "      <th>3</th>\n",
       "      <td>West Loop</td>\n",
       "      <td>5163.666667</td>\n",
       "    </tr>\n",
       "    <tr>\n",
       "      <th>4</th>\n",
       "      <td>O'Hare</td>\n",
       "      <td>2546.900000</td>\n",
       "    </tr>\n",
       "    <tr>\n",
       "      <th>5</th>\n",
       "      <td>Lake View</td>\n",
       "      <td>2420.966667</td>\n",
       "    </tr>\n",
       "    <tr>\n",
       "      <th>6</th>\n",
       "      <td>Grant Park</td>\n",
       "      <td>2068.533333</td>\n",
       "    </tr>\n",
       "    <tr>\n",
       "      <th>7</th>\n",
       "      <td>Museum Campus</td>\n",
       "      <td>1510.000000</td>\n",
       "    </tr>\n",
       "    <tr>\n",
       "      <th>8</th>\n",
       "      <td>Gold Coast</td>\n",
       "      <td>1364.233333</td>\n",
       "    </tr>\n",
       "    <tr>\n",
       "      <th>9</th>\n",
       "      <td>Sheffield &amp; DePaul</td>\n",
       "      <td>1259.766667</td>\n",
       "    </tr>\n",
       "  </tbody>\n",
       "</table>\n",
       "</div>"
      ],
      "text/plain": [
       "  dropoff_location_name  average_trips\n",
       "0                  Loop   10727.466667\n",
       "1           River North    9523.666667\n",
       "2         Streeterville    6664.666667\n",
       "3             West Loop    5163.666667\n",
       "4                O'Hare    2546.900000\n",
       "5             Lake View    2420.966667\n",
       "6            Grant Park    2068.533333\n",
       "7         Museum Campus    1510.000000\n",
       "8            Gold Coast    1364.233333\n",
       "9    Sheffield & DePaul    1259.766667"
      ]
     },
     "execution_count": 13,
     "metadata": {},
     "output_type": "execute_result"
    }
   ],
   "source": [
    "#Faz o ranking dos 10 bairros com mais destinos\n",
    "top_dropoff_neighborhoods = dropoff_stats.sort_values(by='average_trips', ascending=False).head(10)\n",
    "top_dropoff_neighborhoods"
   ]
  },
  {
   "cell_type": "code",
   "execution_count": 14,
   "metadata": {
    "trusted": true
   },
   "outputs": [
    {
     "data": {
      "image/png": "[encoded data removed]",
      "text/plain": [
       "<Figure size 1000x600 with 1 Axes>"
      ]
     },
     "metadata": {},
     "output_type": "display_data"
    }
   ],
   "source": [
    "#Gráfico as 10 melhores empresas de táxi\n",
    "\n",
    "top_company = trips_by_company.sort_values(by='trips_amount', ascending=False).head(10)\n",
    "\n",
    "plt.figure(figsize=(10, 6))\n",
    "\n",
    "sns.barplot(data=top_company,\n",
    "            x='company_name',\n",
    "            y='trips_amount',\n",
    "            palette='Oranges')  \n",
    "plt.title(\"Melhores empresas de táxi por número de corridas\")\n",
    "plt.xlabel(\"Empresa\")\n",
    "plt.ylabel(\"Número de corridas (15 a 16 de novembro de 2017)\")\n",
    "plt.xticks(rotation=45)\n",
    "plt.tight_layout()\n",
    "plt.show()"
   ]
  },
  {
   "cell_type": "code",
   "execution_count": 16,
   "metadata": {
    "trusted": true
   },
   "outputs": [
    {
     "data": {
      "image/png": "[encoded data removed]",
      "text/plain": [
       "<Figure size 1000x600 with 1 Axes>"
      ]
     },
     "metadata": {},
     "output_type": "display_data"
    }
   ],
   "source": [
    "#Gráfico dos bairros com mais destinos de viagem\n",
    "\n",
    "plt.figure(figsize=(10, 6))\n",
    "\n",
    "sns.barplot(data=top_dropoff_neighborhoods,\n",
    "            x='dropoff_location_name',\n",
    "            y='average_trips',\n",
    "            palette='Blues_d')\n",
    "\n",
    "plt.title(\"Bairros com maior média de corridas como destino (Novembro 2017)\")\n",
    "plt.xlabel(\"Bairros onde a corrida termina\")\n",
    "plt.ylabel(\"Média de viagens\")\n",
    "plt.xticks(rotation=45)\n",
    "plt.tight_layout()\n",
    "plt.show()"
   ]
  },
  {
   "cell_type": "markdown",
   "metadata": {},
   "source": [
    "A Flash Cab realizou aproximadamente 20 mil corridas, enquanto a segunda colocada, Taxi Affiliation Services, teve cerca de 11 mil, uma diferença de quase o dobro e Loop e River North, foram os destinos mais populares. Isso pode estar relacionado à concentração de comércio, turismo e áreas corporativas"
   ]
  },
  {
   "cell_type": "code",
   "execution_count": 17,
   "metadata": {
    "trusted": true
   },
   "outputs": [
    {
     "name": "stdout",
     "output_type": "stream",
     "text": [
      "Variância do tempo ruim (chuvoso): 520294.09\n",
      "Variância do tempo bom (sem chuva): 576382.01\n",
      "\n",
      "Razão entre as variâncias (tempo ruim / tempo bom): 0.90\n",
      "\n",
      "Estatística t: 7.1860\n",
      "Valor-p: 0.0000\n",
      "Rejeitamos a hipótese nula: há diferença significativa nas médias das avaliações.\n"
     ]
    }
   ],
   "source": [
    "#Teste de hipótese\n",
    "\n",
    "# Converte a coluna start_ts para datetime\n",
    "loop_to_ohare['start_ts'] = pd.to_datetime(loop_to_ohare['start_ts'])\n",
    "\n",
    "# Cria uma coluna com True para dias chuvosos e False para dias com sol\n",
    "loop_to_ohare['weather_bad'] = loop_to_ohare['weather_conditions'].str.contains(\"Bad\")\n",
    "\n",
    "# Grupos de sábados chuvosos\n",
    "rainy_saturday_durations = loop_to_ohare.loc[loop_to_ohare.weather_bad, 'duration_seconds']\n",
    "\n",
    "# Grupos de sábados com sol\n",
    "clear_saturday_durations = loop_to_ohare.loc[~loop_to_ohare.weather_bad, 'duration_seconds']\n",
    "\n",
    "# Define nível de significância\n",
    "alpha = 0.05\n",
    "\n",
    "# Calcula as variâncias\n",
    "var_bad = rainy_saturday_durations.var()\n",
    "var_good = clear_saturday_durations.var()\n",
    "\n",
    "# Exibe as variâncias com 2 casas decimais\n",
    "print(f\"Variância do tempo ruim (chuvoso): {var_bad:.2f}\")\n",
    "print(f\"Variância do tempo bom (sem chuva): {var_good:.2f}\")\n",
    "print(\"\")\n",
    "\n",
    "# Calcula e exibe a razão entre as variâncias\n",
    "variancia_ratio = var_bad / var_good\n",
    "print(f\"Razão entre as variâncias (tempo ruim / tempo bom): {variancia_ratio:.2f}\")\n",
    "print(\"\")\n",
    "\n",
    "# Rodando o teste t com equal_var dependendo da comparação das variâncias\n",
    "t_stat, p_value = ttest_ind(rainy_saturday_durations, clear_saturday_durations, equal_var=False)\n",
    "\n",
    "# Exibe o resultado\n",
    "print(f\"Estatística t: {t_stat:.4f}\")\n",
    "print(f\"Valor-p: {p_value:.4f}\")\n",
    "\n",
    "# Interpreta o resultado\n",
    "if p_value < alpha:\n",
    "    print(\"Rejeitamos a hipótese nula: há diferença significativa nas médias das avaliações.\")\n",
    "else:\n",
    "    print(\"Não rejeitamos a hipótese nula: não há diferença significativa nas médias.\")\n"
   ]
  },
  {
   "cell_type": "markdown",
   "metadata": {},
   "source": [
    "Rejeitamos a hipótese nula: Com base nos resultados, podemos concluir que a duração dos passeios realmente muda nos sábados chuvosos em comparação aos sábados com tempo bom."
   ]
  },
  {
   "cell_type": "code",
   "execution_count": null,
   "metadata": {
    "trusted": true
   },
   "outputs": [],
   "source": []
  }
 ],
 "metadata": {
  "ExecuteTimeLog": [
   {
    "duration": 165,
    "start_time": "2025-04-23T21:11:23.248Z"
   },
   {
    "duration": 344,
    "start_time": "2025-04-23T21:11:46.910Z"
   },
   {
    "duration": 47,
    "start_time": "2025-04-23T21:15:24.338Z"
   },
   {
    "duration": 2,
    "start_time": "2025-04-23T21:15:30.071Z"
   },
   {
    "duration": 27,
    "start_time": "2025-04-23T21:15:32.617Z"
   },
   {
    "duration": 67,
    "start_time": "2025-04-23T21:15:47.684Z"
   },
   {
    "duration": 8,
    "start_time": "2025-04-23T21:15:53.325Z"
   },
   {
    "duration": 8,
    "start_time": "2025-04-23T21:16:06.926Z"
   },
   {
    "duration": 13,
    "start_time": "2025-04-23T21:16:17.296Z"
   },
   {
    "duration": 6,
    "start_time": "2025-04-23T21:16:29.241Z"
   },
   {
    "duration": 9,
    "start_time": "2025-04-23T21:17:02.126Z"
   },
   {
    "duration": 3,
    "start_time": "2025-04-23T21:17:13.794Z"
   },
   {
    "duration": 10,
    "start_time": "2025-04-23T21:17:17.840Z"
   },
   {
    "duration": 5,
    "start_time": "2025-04-23T21:17:25.015Z"
   },
   {
    "duration": 5,
    "start_time": "2025-04-23T23:13:01.099Z"
   },
   {
    "duration": 4,
    "start_time": "2025-04-23T23:14:01.677Z"
   },
   {
    "duration": 4,
    "start_time": "2025-04-23T23:14:45.272Z"
   },
   {
    "duration": 307,
    "start_time": "2025-04-24T19:24:24.178Z"
   },
   {
    "duration": 10,
    "start_time": "2025-04-24T19:24:24.487Z"
   },
   {
    "duration": 16,
    "start_time": "2025-04-24T19:24:24.499Z"
   },
   {
    "duration": 13,
    "start_time": "2025-04-24T19:24:24.517Z"
   },
   {
    "duration": 5,
    "start_time": "2025-04-24T19:24:24.532Z"
   },
   {
    "duration": 8,
    "start_time": "2025-04-24T19:24:24.539Z"
   },
   {
    "duration": 8,
    "start_time": "2025-04-24T19:24:24.550Z"
   },
   {
    "duration": 5,
    "start_time": "2025-04-24T19:24:24.560Z"
   },
   {
    "duration": 41,
    "start_time": "2025-04-24T19:24:24.566Z"
   },
   {
    "duration": 3,
    "start_time": "2025-04-24T19:26:56.725Z"
   },
   {
    "duration": 9,
    "start_time": "2025-04-24T19:26:56.730Z"
   },
   {
    "duration": 8,
    "start_time": "2025-04-24T19:26:56.740Z"
   },
   {
    "duration": 8,
    "start_time": "2025-04-24T19:26:56.750Z"
   },
   {
    "duration": 5,
    "start_time": "2025-04-24T19:26:56.760Z"
   },
   {
    "duration": 7,
    "start_time": "2025-04-24T19:26:56.766Z"
   },
   {
    "duration": 8,
    "start_time": "2025-04-24T19:26:56.775Z"
   },
   {
    "duration": 23,
    "start_time": "2025-04-24T19:26:56.784Z"
   },
   {
    "duration": 27,
    "start_time": "2025-04-24T19:27:20.284Z"
   },
   {
    "duration": 8,
    "start_time": "2025-04-24T19:27:52.684Z"
   },
   {
    "duration": 11,
    "start_time": "2025-04-24T19:27:56.180Z"
   },
   {
    "duration": 6,
    "start_time": "2025-04-24T19:28:01.084Z"
   },
   {
    "duration": 8,
    "start_time": "2025-04-24T19:28:05.693Z"
   },
   {
    "duration": 9,
    "start_time": "2025-04-24T19:28:45.422Z"
   },
   {
    "duration": 9,
    "start_time": "2025-04-24T19:31:16.919Z"
   },
   {
    "duration": 8,
    "start_time": "2025-04-24T19:31:41.990Z"
   },
   {
    "duration": 5,
    "start_time": "2025-04-24T19:31:57.373Z"
   },
   {
    "duration": 334,
    "start_time": "2025-04-24T20:49:34.822Z"
   },
   {
    "duration": 17,
    "start_time": "2025-04-24T20:49:35.158Z"
   },
   {
    "duration": 9,
    "start_time": "2025-04-24T20:49:35.177Z"
   },
   {
    "duration": 14,
    "start_time": "2025-04-24T20:49:35.187Z"
   },
   {
    "duration": 6,
    "start_time": "2025-04-24T20:49:35.203Z"
   },
   {
    "duration": 10,
    "start_time": "2025-04-24T20:49:35.224Z"
   },
   {
    "duration": 10,
    "start_time": "2025-04-24T20:49:35.235Z"
   },
   {
    "duration": 6,
    "start_time": "2025-04-24T20:49:35.247Z"
   },
   {
    "duration": 5,
    "start_time": "2025-04-24T20:49:35.255Z"
   },
   {
    "duration": 5,
    "start_time": "2025-04-24T20:49:37.666Z"
   },
   {
    "duration": 6,
    "start_time": "2025-04-24T20:51:53.700Z"
   },
   {
    "duration": 5,
    "start_time": "2025-04-24T20:53:43.133Z"
   },
   {
    "duration": 7,
    "start_time": "2025-04-24T20:53:48.769Z"
   },
   {
    "duration": 2,
    "start_time": "2025-04-24T20:57:15.354Z"
   },
   {
    "duration": 6,
    "start_time": "2025-04-24T20:57:53.258Z"
   },
   {
    "duration": 7,
    "start_time": "2025-04-24T21:03:44.476Z"
   },
   {
    "duration": 7,
    "start_time": "2025-04-24T21:04:46.193Z"
   },
   {
    "duration": 8,
    "start_time": "2025-04-24T21:06:00.218Z"
   },
   {
    "duration": 2539,
    "start_time": "2025-04-24T21:15:33.516Z"
   },
   {
    "duration": 3,
    "start_time": "2025-04-24T21:15:58.809Z"
   },
   {
    "duration": 201,
    "start_time": "2025-04-24T21:16:05.204Z"
   },
   {
    "duration": 183,
    "start_time": "2025-04-24T21:17:06.017Z"
   },
   {
    "duration": 292,
    "start_time": "2025-04-24T21:17:37.783Z"
   },
   {
    "duration": 288,
    "start_time": "2025-04-24T21:17:52.475Z"
   },
   {
    "duration": 191,
    "start_time": "2025-04-24T21:18:09.604Z"
   },
   {
    "duration": 175,
    "start_time": "2025-04-24T21:21:07.987Z"
   },
   {
    "duration": 163,
    "start_time": "2025-04-24T21:21:22.469Z"
   },
   {
    "duration": 149,
    "start_time": "2025-04-24T21:24:16.293Z"
   },
   {
    "duration": 190,
    "start_time": "2025-04-24T21:24:34.687Z"
   },
   {
    "duration": 137,
    "start_time": "2025-04-24T21:25:20.559Z"
   },
   {
    "duration": 143,
    "start_time": "2025-04-24T21:25:34.586Z"
   },
   {
    "duration": 156,
    "start_time": "2025-04-24T21:25:43.555Z"
   },
   {
    "duration": 136,
    "start_time": "2025-04-24T21:25:58.966Z"
   },
   {
    "duration": 141,
    "start_time": "2025-04-24T21:26:24.632Z"
   },
   {
    "duration": 150,
    "start_time": "2025-04-24T21:32:36.825Z"
   },
   {
    "duration": 166,
    "start_time": "2025-04-24T21:34:00.531Z"
   },
   {
    "duration": 444,
    "start_time": "2025-04-24T21:35:02.849Z"
   },
   {
    "duration": 253,
    "start_time": "2025-04-24T21:35:35.643Z"
   },
   {
    "duration": 269,
    "start_time": "2025-04-24T21:36:03.379Z"
   },
   {
    "duration": 381,
    "start_time": "2025-04-24T21:36:41.060Z"
   },
   {
    "duration": 166,
    "start_time": "2025-04-24T21:36:53.173Z"
   },
   {
    "duration": 18,
    "start_time": "2025-04-24T21:37:21.302Z"
   },
   {
    "duration": 22,
    "start_time": "2025-04-24T21:37:28.548Z"
   },
   {
    "duration": 307,
    "start_time": "2025-04-24T21:38:57.776Z"
   },
   {
    "duration": 321,
    "start_time": "2025-04-24T21:39:27.879Z"
   },
   {
    "duration": 279,
    "start_time": "2025-04-24T21:39:42.366Z"
   },
   {
    "duration": 319,
    "start_time": "2025-04-24T21:40:50.520Z"
   },
   {
    "duration": 278,
    "start_time": "2025-04-24T21:41:13.719Z"
   },
   {
    "duration": 18,
    "start_time": "2025-04-24T21:50:46.725Z"
   },
   {
    "duration": 11,
    "start_time": "2025-04-24T21:51:13.238Z"
   },
   {
    "duration": 22,
    "start_time": "2025-04-24T21:51:33.179Z"
   },
   {
    "duration": 8,
    "start_time": "2025-04-24T21:51:45.494Z"
   },
   {
    "duration": 2566,
    "start_time": "2025-04-25T15:51:34.089Z"
   },
   {
    "duration": 78,
    "start_time": "2025-04-25T15:51:36.657Z"
   },
   {
    "duration": 9,
    "start_time": "2025-04-25T15:51:36.737Z"
   },
   {
    "duration": 11,
    "start_time": "2025-04-25T15:51:36.748Z"
   },
   {
    "duration": 5,
    "start_time": "2025-04-25T15:51:36.762Z"
   },
   {
    "duration": 8,
    "start_time": "2025-04-25T15:51:36.769Z"
   },
   {
    "duration": 8,
    "start_time": "2025-04-25T15:51:36.779Z"
   },
   {
    "duration": 7,
    "start_time": "2025-04-25T15:51:36.788Z"
   },
   {
    "duration": 8,
    "start_time": "2025-04-25T15:51:36.820Z"
   },
   {
    "duration": 10,
    "start_time": "2025-04-25T15:51:36.830Z"
   },
   {
    "duration": 8,
    "start_time": "2025-04-25T15:51:36.842Z"
   },
   {
    "duration": 7,
    "start_time": "2025-04-25T15:51:36.852Z"
   },
   {
    "duration": 387,
    "start_time": "2025-04-25T15:51:36.861Z"
   },
   {
    "duration": 246,
    "start_time": "2025-04-25T15:51:37.251Z"
   },
   {
    "duration": 2,
    "start_time": "2025-04-25T15:51:49.786Z"
   },
   {
    "duration": 5,
    "start_time": "2025-04-25T15:56:13.814Z"
   },
   {
    "duration": 11,
    "start_time": "2025-04-25T15:56:31.134Z"
   },
   {
    "duration": 4,
    "start_time": "2025-04-25T15:58:03.550Z"
   },
   {
    "duration": 7,
    "start_time": "2025-04-25T15:58:32.690Z"
   },
   {
    "duration": 7,
    "start_time": "2025-04-25T15:59:05.927Z"
   },
   {
    "duration": 8,
    "start_time": "2025-04-25T16:08:55.174Z"
   },
   {
    "duration": 5,
    "start_time": "2025-04-25T16:12:45.517Z"
   },
   {
    "duration": 8,
    "start_time": "2025-04-25T16:12:58.717Z"
   },
   {
    "duration": 9,
    "start_time": "2025-04-25T16:14:00.337Z"
   },
   {
    "duration": 13,
    "start_time": "2025-04-25T16:14:13.439Z"
   },
   {
    "duration": 12,
    "start_time": "2025-04-25T16:14:25.032Z"
   },
   {
    "duration": 8,
    "start_time": "2025-04-25T16:15:31.759Z"
   },
   {
    "duration": 305,
    "start_time": "2025-04-25T16:38:22.630Z"
   },
   {
    "duration": 486,
    "start_time": "2025-04-25T16:38:36.885Z"
   },
   {
    "duration": 55,
    "start_time": "2025-04-25T16:39:06.018Z"
   },
   {
    "duration": 22,
    "start_time": "2025-04-25T16:40:40.294Z"
   },
   {
    "duration": 9,
    "start_time": "2025-04-25T16:40:49.429Z"
   },
   {
    "duration": 19,
    "start_time": "2025-04-25T16:41:15.481Z"
   },
   {
    "duration": 7,
    "start_time": "2025-04-25T16:42:26.861Z"
   },
   {
    "duration": 6,
    "start_time": "2025-04-25T16:43:32.193Z"
   },
   {
    "duration": 7,
    "start_time": "2025-04-25T16:57:33.869Z"
   },
   {
    "duration": 8,
    "start_time": "2025-04-25T17:01:49.339Z"
   },
   {
    "duration": 8,
    "start_time": "2025-04-25T17:03:31.433Z"
   },
   {
    "duration": 8,
    "start_time": "2025-04-25T17:04:10.158Z"
   },
   {
    "duration": 7,
    "start_time": "2025-04-25T17:05:14.731Z"
   },
   {
    "duration": 8,
    "start_time": "2025-04-25T17:05:51.327Z"
   },
   {
    "duration": 8,
    "start_time": "2025-04-25T17:06:05.606Z"
   },
   {
    "duration": 3,
    "start_time": "2025-04-25T17:07:36.060Z"
   },
   {
    "duration": 11,
    "start_time": "2025-04-25T17:08:47.612Z"
   },
   {
    "duration": 24,
    "start_time": "2025-04-25T17:09:52.232Z"
   },
   {
    "duration": 10,
    "start_time": "2025-04-25T17:10:30.619Z"
   },
   {
    "duration": 10,
    "start_time": "2025-04-25T17:13:35.176Z"
   },
   {
    "duration": 10,
    "start_time": "2025-04-25T17:18:59.853Z"
   },
   {
    "duration": 178,
    "start_time": "2025-04-26T00:42:14.699Z"
   },
   {
    "duration": 2879,
    "start_time": "2025-04-26T00:42:19.835Z"
   },
   {
    "duration": 22,
    "start_time": "2025-04-26T00:42:22.719Z"
   },
   {
    "duration": 10,
    "start_time": "2025-04-26T00:42:22.742Z"
   },
   {
    "duration": 14,
    "start_time": "2025-04-26T00:42:22.755Z"
   },
   {
    "duration": 6,
    "start_time": "2025-04-26T00:42:22.771Z"
   },
   {
    "duration": 10,
    "start_time": "2025-04-26T00:42:22.779Z"
   },
   {
    "duration": 35,
    "start_time": "2025-04-26T00:42:22.791Z"
   },
   {
    "duration": 6,
    "start_time": "2025-04-26T00:42:22.829Z"
   },
   {
    "duration": 10,
    "start_time": "2025-04-26T00:42:22.837Z"
   },
   {
    "duration": 11,
    "start_time": "2025-04-26T00:42:22.851Z"
   },
   {
    "duration": 8,
    "start_time": "2025-04-26T00:42:22.864Z"
   },
   {
    "duration": 8,
    "start_time": "2025-04-26T00:42:22.874Z"
   },
   {
    "duration": 347,
    "start_time": "2025-04-26T00:42:22.921Z"
   },
   {
    "duration": 353,
    "start_time": "2025-04-26T00:42:23.271Z"
   },
   {
    "duration": 272,
    "start_time": "2025-04-26T00:42:23.626Z"
   },
   {
    "duration": 24,
    "start_time": "2025-04-26T00:42:23.899Z"
   },
   {
    "duration": 347,
    "start_time": "2025-04-26T00:43:20.073Z"
   },
   {
    "duration": 322,
    "start_time": "2025-04-26T00:44:07.208Z"
   },
   {
    "duration": 416,
    "start_time": "2025-04-26T00:44:21.586Z"
   },
   {
    "duration": 327,
    "start_time": "2025-04-26T00:44:33.805Z"
   }
  ],
  "kernelspec": {
   "display_name": "Python 3 (ipykernel)",
   "language": "python",
   "name": "python3"
  },
  "language_info": {
   "codemirror_mode": {
    "name": "ipython",
    "version": 3
   },
   "file_extension": ".py",
   "mimetype": "text/x-python",
   "name": "python",
   "nbconvert_exporter": "python",
   "pygments_lexer": "ipython3",
   "version": "3.9.19"
  },
  "toc": {
   "base_numbering": 1,
   "nav_menu": {},
   "number_sections": true,
   "sideBar": true,
   "skip_h1_title": true,
   "title_cell": "Table of Contents",
   "title_sidebar": "Contents",
   "toc_cell": false,
   "toc_position": {},
   "toc_section_display": true,
   "toc_window_display": false
  }
 },
 "nbformat": 4,
 "nbformat_minor": 2
}
